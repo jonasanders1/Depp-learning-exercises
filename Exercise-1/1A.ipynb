{
 "cells": [
  {
   "cell_type": "markdown",
   "metadata": {},
   "source": [
    "## Backpropagation\n",
    "## Problem 1 \n",
    "\n",
    "### 1A) Derivation of backpropagation algorithm"
   ]
  }
 ],
 "metadata": {
  "language_info": {
   "name": "python"
  }
 },
 "nbformat": 4,
 "nbformat_minor": 2
}
